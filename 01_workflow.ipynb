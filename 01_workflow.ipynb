{
  "nbformat": 4,
  "nbformat_minor": 0,
  "metadata": {
    "colab": {
      "provenance": [],
      "gpuType": "T4",
      "authorship_tag": "ABX9TyMvtNN35DbJ1NvtcA5w5xH8",
      "include_colab_link": true
    },
    "kernelspec": {
      "name": "python3",
      "display_name": "Python 3"
    },
    "language_info": {
      "name": "python"
    },
    "accelerator": "GPU"
  },
  "cells": [
    {
      "cell_type": "markdown",
      "metadata": {
        "id": "view-in-github",
        "colab_type": "text"
      },
      "source": [
        "<a href=\"https://colab.research.google.com/github/talhaDS04/pytorch-week4/blob/main/01_workflow.ipynb\" target=\"_parent\"><img src=\"https://colab.research.google.com/assets/colab-badge.svg\" alt=\"Open In Colab\"/></a>"
      ]
    },
    {
      "cell_type": "markdown",
      "source": [
        "#PyTorch workflow\n",
        "\n",
        "let's explore an example pyTorch end to end workflow.<br>\n",
        "Resource Book link : https://www.learnpytorch.io/00_pytorch_fundamentals/<br>\n",
        "Ground Truth : https://github.com/mrdbourke/pytorch-deep-learning/blob/main/extras/regression-data.csv<br>\n",
        "Ask a question : https://www.learnpytorch.io/00_pytorch_fundamentals/"
      ],
      "metadata": {
        "id": "dcCQbYEtn1Vx"
      }
    },
    {
      "cell_type": "code",
      "source": [
        "import torch\n",
        "from torch import nn # nn contains all of PyTorch's building blocks for neural networks\n",
        "import matplotlib.pyplot as plt"
      ],
      "metadata": {
        "id": "XOGxKNRhYS6q"
      },
      "execution_count": 133,
      "outputs": []
    },
    {
      "cell_type": "code",
      "source": [
        "what_were_covering = {\n",
        "    1 : \"data (prepare and load)\",\n",
        "    2 : \"build model\",\n",
        "    3 : \"fitting the model to data (training)\",\n",
        "    4 : \"making predictions and evaluating a model (inference)\",\n",
        "    5 : \"saving and loading a model\",\n",
        "}\n",
        "what_were_covering"
      ],
      "metadata": {
        "colab": {
          "base_uri": "https://localhost:8080/"
        },
        "id": "H8qCf1faYS3J",
        "outputId": "1f610461-5276-4326-9de6-54e3de95d511"
      },
      "execution_count": 134,
      "outputs": [
        {
          "output_type": "execute_result",
          "data": {
            "text/plain": [
              "{1: 'data (prepare and load)',\n",
              " 2: 'build model',\n",
              " 3: 'fitting the model to data (training)',\n",
              " 4: 'making predictions and evaluating a model (inference)',\n",
              " 5: 'saving and loading a model'}"
            ]
          },
          "metadata": {},
          "execution_count": 134
        }
      ]
    },
    {
      "cell_type": "code",
      "source": [
        "import torch\n",
        "from torch import nn\n",
        "import matplotlib.pyplot as plt\n",
        "\n",
        "#check python version\n",
        "torch.__version__"
      ],
      "metadata": {
        "colab": {
          "base_uri": "https://localhost:8080/",
          "height": 36
        },
        "id": "PmMhBIp6YS05",
        "outputId": "7803354d-b072-4e35-e1f5-ef97baefca7a"
      },
      "execution_count": 135,
      "outputs": [
        {
          "output_type": "execute_result",
          "data": {
            "text/plain": [
              "'2.6.0+cu124'"
            ],
            "application/vnd.google.colaboratory.intrinsic+json": {
              "type": "string"
            }
          },
          "metadata": {},
          "execution_count": 135
        }
      ]
    },
    {
      "cell_type": "markdown",
      "source": [
        "## 1.Data  (preparing and loading )"
      ],
      "metadata": {
        "id": "jIuaKcBVYSyN"
      }
    },
    {
      "cell_type": "markdown",
      "source": [
        "ML is a game of 2 parts <br>\n",
        "1. Get data into numerical representation <br>\n",
        "2. learn patterns in that numerical representation\n",
        "\n",
        "To showcase this , let's create some *known* data using the linear regression.<br>\n",
        "we use linear regression formula to make a straight line with known *parameters*."
      ],
      "metadata": {
        "id": "H-ouS0U4bOjf"
      }
    },
    {
      "cell_type": "code",
      "source": [
        "#Create *known* parameters\n",
        "weight = 0.7\n",
        "bias = 0.3\n",
        "\n",
        "#Create data\n",
        "start = 0\n",
        "end = 1\n",
        "step = 0.02\n",
        "\n",
        "X = torch.arange(start,end,step).unsqueeze(dim=1)\n",
        "y = weight * X + bias\n",
        "\n",
        "X[:10],y[:10]"
      ],
      "metadata": {
        "colab": {
          "base_uri": "https://localhost:8080/"
        },
        "id": "2Dre7bwzYSvm",
        "outputId": "edf10406-c735-4413-8473-35f8931f4464"
      },
      "execution_count": 136,
      "outputs": [
        {
          "output_type": "execute_result",
          "data": {
            "text/plain": [
              "(tensor([[0.0000],\n",
              "         [0.0200],\n",
              "         [0.0400],\n",
              "         [0.0600],\n",
              "         [0.0800],\n",
              "         [0.1000],\n",
              "         [0.1200],\n",
              "         [0.1400],\n",
              "         [0.1600],\n",
              "         [0.1800]]),\n",
              " tensor([[0.3000],\n",
              "         [0.3140],\n",
              "         [0.3280],\n",
              "         [0.3420],\n",
              "         [0.3560],\n",
              "         [0.3700],\n",
              "         [0.3840],\n",
              "         [0.3980],\n",
              "         [0.4120],\n",
              "         [0.4260]]))"
            ]
          },
          "metadata": {},
          "execution_count": 136
        }
      ]
    },
    {
      "cell_type": "code",
      "source": [
        "len(X), len (y)"
      ],
      "metadata": {
        "colab": {
          "base_uri": "https://localhost:8080/"
        },
        "id": "aCGxRP5KYStF",
        "outputId": "155fd166-e012-4b0b-d66c-1b89f3a3eb8b"
      },
      "execution_count": 137,
      "outputs": [
        {
          "output_type": "execute_result",
          "data": {
            "text/plain": [
              "(50, 50)"
            ]
          },
          "metadata": {},
          "execution_count": 137
        }
      ]
    },
    {
      "cell_type": "markdown",
      "source": [
        "###Split data into training and testing data."
      ],
      "metadata": {
        "id": "P84wb6ggYSqr"
      }
    },
    {
      "cell_type": "code",
      "source": [
        "#Create a train/test split\n",
        "train_split = int(0.8 * len(X))\n",
        "X_train, y_train = X[:train_split], y[:train_split]\n",
        "X_test, y_test = X[train_split:], y[train_split:]\n",
        "\n",
        "len(X_train), len(y_train), len(X_test), len(y_test)"
      ],
      "metadata": {
        "colab": {
          "base_uri": "https://localhost:8080/"
        },
        "id": "MUgtc2v7YSoZ",
        "outputId": "11245185-f620-4116-e4d9-12dbf48d12c4"
      },
      "execution_count": 138,
      "outputs": [
        {
          "output_type": "execute_result",
          "data": {
            "text/plain": [
              "(40, 40, 10, 10)"
            ]
          },
          "metadata": {},
          "execution_count": 138
        }
      ]
    },
    {
      "cell_type": "code",
      "source": [
        "def plot_predictions(train_data=X_train,\n",
        "                     train_labels=y_train,\n",
        "                     test_data=X_test,\n",
        "                     test_labels=y_test,\n",
        "                     predictions=None):\n",
        "  \"\"\"\n",
        "  Plots training data, test data and compares predictions.\n",
        "  \"\"\"\n",
        "  plt.figure(figsize=(10, 7))\n",
        "\n",
        "  # Plot training data in blue\n",
        "  plt.scatter(train_data, train_labels, c=\"b\", s=4, label=\"Training data\")\n",
        "\n",
        "  #plot testing data in green\n",
        "  plt.scatter(test_data, test_data , c='g' , s=4,label=\"testing data\")\n",
        "\n",
        "  # Are  there predictions?\n",
        "  if predictions is not None:\n",
        "    plt.scatter(test_data, predictions, c=\"r\", s=4, label=\"Predictions\")\n",
        "\n",
        "  #show legend\n",
        "  plt.legend(prop={\"size\": 14})"
      ],
      "metadata": {
        "id": "xjOeM0P2YSlh"
      },
      "execution_count": 139,
      "outputs": []
    },
    {
      "cell_type": "code",
      "source": [
        "plot_predictions()"
      ],
      "metadata": {
        "colab": {
          "base_uri": "https://localhost:8080/",
          "height": 599
        },
        "id": "ZVEh8Hn5jJ9B",
        "outputId": "cd4efa89-7193-425b-cd89-4d7cf94fc751"
      },
      "execution_count": 140,
      "outputs": [
        {
          "output_type": "display_data",
          "data": {
            "text/plain": [
              "<Figure size 1000x700 with 1 Axes>"
            ],
            "image/png": "[encoded data removed]"
          },
          "metadata": {}
        }
      ]
    },
    {
      "cell_type": "markdown",
      "source": [
        "## 2.Build Model\n",
        "\n",
        "1. Building our first pytorch model"
      ],
      "metadata": {
        "id": "4kazyg_bjeHp"
      }
    },
    {
      "cell_type": "code",
      "source": [
        "#create linear regression model class\n",
        "class LinearRegressionModel(nn.Module):\n",
        "  def __init__(self):\n",
        "    super().__init__()\n",
        "    self.weights = nn.Parameter(torch.randn(1,\n",
        "                                            requires_grad=True, #gradiant decent and back propagation working here\n",
        "                                            dtype=torch.float))\n",
        "    self.bias = nn.Parameter(torch.randn(1,\n",
        "                                         requires_grad=True,\n",
        "                                         dtype=torch.float))\n",
        "\n",
        "  # Forward method to define the computation in the model\n",
        "  def forward(self,x:torch.Tensor) -> torch.Tensor:\n",
        "    return self.weights * x + self.bias"
      ],
      "metadata": {
        "id": "ahO0E0Icj7sf"
      },
      "execution_count": 141,
      "outputs": []
    },
    {
      "cell_type": "markdown",
      "source": [
        "###Pytorch model building essantials\n",
        "\n",
        "1. torch.nn -> Contains all the building block for computationals graph.\n",
        "2. torch.nn.parameter -> what parameter should our model try and learn.\n",
        "3. torch.nn.module -> base class for all neural network.\n",
        "4. torch.optim -> this where the optimizers in pyTorch live, they will help with gradiant descent\n",
        "5. def forward() -> defines the computation in the model."
      ],
      "metadata": {
        "id": "81S5N7w7j7pC"
      }
    },
    {
      "cell_type": "markdown",
      "source": [
        "###Checking the contents of pyTorch Models\n",
        "\n",
        "Now we've created a model, let's whats inside...\n"
      ],
      "metadata": {
        "id": "1_tKEshLj7mt"
      }
    },
    {
      "cell_type": "code",
      "source": [
        "#create a random seed\n",
        "torch.manual_seed(42)\n",
        "\n",
        "#Create a model\n",
        "model_0 = LinearRegressionModel()\n",
        "\n",
        "#check out the parameters\n",
        "list(model_0.parameters())"
      ],
      "metadata": {
        "colab": {
          "base_uri": "https://localhost:8080/"
        },
        "id": "9uEZQLw7j7ka",
        "outputId": "2b7a3017-6ea0-4a51-fdf7-b725a15fae7c"
      },
      "execution_count": 142,
      "outputs": [
        {
          "output_type": "execute_result",
          "data": {
            "text/plain": [
              "[Parameter containing:\n",
              " tensor([0.3367], requires_grad=True),\n",
              " Parameter containing:\n",
              " tensor([0.1288], requires_grad=True)]"
            ]
          },
          "metadata": {},
          "execution_count": 142
        }
      ]
    },
    {
      "cell_type": "code",
      "source": [
        "#List named parameters\n",
        "model_0.state_dict()"
      ],
      "metadata": {
        "colab": {
          "base_uri": "https://localhost:8080/"
        },
        "id": "wUC6waVLj7hj",
        "outputId": "c052df0f-36aa-42eb-a9f2-a8ad19a2af8e"
      },
      "execution_count": 143,
      "outputs": [
        {
          "output_type": "execute_result",
          "data": {
            "text/plain": [
              "OrderedDict([('weights', tensor([0.3367])), ('bias', tensor([0.1288]))])"
            ]
          },
          "metadata": {},
          "execution_count": 143
        }
      ]
    },
    {
      "cell_type": "code",
      "source": [
        "weight, bias"
      ],
      "metadata": {
        "colab": {
          "base_uri": "https://localhost:8080/"
        },
        "id": "202JnJhOj7f-",
        "outputId": "efb71348-b9f3-47df-c8c2-77a612b547c7"
      },
      "execution_count": 144,
      "outputs": [
        {
          "output_type": "execute_result",
          "data": {
            "text/plain": [
              "(0.7, 0.3)"
            ]
          },
          "metadata": {},
          "execution_count": 144
        }
      ]
    },
    {
      "cell_type": "markdown",
      "source": [
        "###Making Prediction using torch.inference_model()\n"
      ],
      "metadata": {
        "id": "btBnBJ7uj7c5"
      }
    },
    {
      "cell_type": "code",
      "source": [
        "#Make prediction model\n",
        "with torch.inference_mode(): #turn off gradiant tracking , cal write torch.no_grad() , do the same as torch.inference_mode()\n",
        "  y_preds = model_0(X_test)\n",
        "y_preds"
      ],
      "metadata": {
        "colab": {
          "base_uri": "https://localhost:8080/"
        },
        "id": "9sClov7q0NOz",
        "outputId": "0425f6bd-2226-4092-c0d2-1cebcabf9093"
      },
      "execution_count": 145,
      "outputs": [
        {
          "output_type": "execute_result",
          "data": {
            "text/plain": [
              "tensor([[0.3982],\n",
              "        [0.4049],\n",
              "        [0.4116],\n",
              "        [0.4184],\n",
              "        [0.4251],\n",
              "        [0.4318],\n",
              "        [0.4386],\n",
              "        [0.4453],\n",
              "        [0.4520],\n",
              "        [0.4588]])"
            ]
          },
          "metadata": {},
          "execution_count": 145
        }
      ]
    },
    {
      "cell_type": "code",
      "source": [
        "y_test"
      ],
      "metadata": {
        "colab": {
          "base_uri": "https://localhost:8080/"
        },
        "id": "00dC7xFo0NLb",
        "outputId": "e1fdc8f1-4914-4a41-c676-78c2341d9c15"
      },
      "execution_count": 146,
      "outputs": [
        {
          "output_type": "execute_result",
          "data": {
            "text/plain": [
              "tensor([[0.8600],\n",
              "        [0.8740],\n",
              "        [0.8880],\n",
              "        [0.9020],\n",
              "        [0.9160],\n",
              "        [0.9300],\n",
              "        [0.9440],\n",
              "        [0.9580],\n",
              "        [0.9720],\n",
              "        [0.9860]])"
            ]
          },
          "metadata": {},
          "execution_count": 146
        }
      ]
    },
    {
      "cell_type": "code",
      "source": [
        "plot_predictions(predictions=y_preds)"
      ],
      "metadata": {
        "colab": {
          "base_uri": "https://localhost:8080/",
          "height": 599
        },
        "id": "TBNc64u70NJF",
        "outputId": "0bc5e88b-d99a-45e3-bcf8-184ec36be74a"
      },
      "execution_count": 147,
      "outputs": [
        {
          "output_type": "display_data",
          "data": {
            "text/plain": [
              "<Figure size 1000x700 with 1 Axes>"
            ],
            "image/png": "[encoded data removed]"
          },
          "metadata": {}
        }
      ]
    },
    {
      "cell_type": "markdown",
      "source": [
        "## 3  Train Model\n",
        "\n",
        "The whole idea is to convert model from \"unknown\" parameters to \"known\" parameter.\n",
        "\n",
        "One way to measure how poor your model predictions are is to use a **loss function.**\n",
        "\n",
        "*Optimizer* Takes into account the loss of a model and adjust the model's parameters.\n",
        "\n",
        "And specifically we need\n",
        "1. Training loop\n",
        "2. testing loop"
      ],
      "metadata": {
        "id": "Dd61FPuT0NGh"
      }
    },
    {
      "cell_type": "code",
      "source": [
        "model_0.state_dict()"
      ],
      "metadata": {
        "colab": {
          "base_uri": "https://localhost:8080/"
        },
        "id": "In6Dfnmm0ND0",
        "outputId": "9b6b27ed-ba25-4f7c-f067-9fb5ab73c99e"
      },
      "execution_count": 148,
      "outputs": [
        {
          "output_type": "execute_result",
          "data": {
            "text/plain": [
              "OrderedDict([('weights', tensor([0.3367])), ('bias', tensor([0.1288]))])"
            ]
          },
          "metadata": {},
          "execution_count": 148
        }
      ]
    },
    {
      "cell_type": "code",
      "source": [
        "#setup a loss function\n",
        "loss_fn = nn.L1Loss() #L1Loss = MAE\n",
        "\n",
        "#setup an optimizer\n",
        "optimizer = torch.optim.SGD(params=model_0.parameters(),\n",
        "                            lr=0.01) #important hypermeter"
      ],
      "metadata": {
        "id": "9yyJm9qt0NBR"
      },
      "execution_count": 149,
      "outputs": []
    },
    {
      "cell_type": "markdown",
      "source": [
        "###building an training loop(and testing loop) in pyTorch.\n",
        "\n",
        "couple of things for training loop\n",
        "1. loop through the data\n",
        "2. do forward pass for making preictions\n",
        "3. calculate the loss - compare forward pass.\n",
        "4.optimize zero_grad\n",
        "5. loss backward-move backward through the network for calculating the gradiant.\n",
        "6. optimizer step- use the optimizer to adjust the parameters."
      ],
      "metadata": {
        "id": "reQtO0cS0M-u"
      }
    },
    {
      "cell_type": "code",
      "source": [
        "torch.manual_seed(42)\n",
        "\n",
        "#An epoch is one loop through the data...\n",
        "epochs = 200\n",
        "\n",
        "# Track different values\n",
        "epoch_count = []\n",
        "train_loss_values = []\n",
        "test_loss_values = []\n",
        "\n",
        "###Training\n",
        "# 0.Loop through the data\n",
        "for epoch in range(epochs):\n",
        "  #set the model to training mode\n",
        "   model_0.train()\n",
        "\n",
        "  #1. forward pass\n",
        "   y_pred = model_0(X_train)\n",
        "\n",
        "  #2. calculate the loss\n",
        "   loss = loss_fn(y_pred,y_train)\n",
        "\n",
        "  #3. optimizer zero_grad\n",
        "   optimizer.zero_grad()\n",
        "\n",
        "  #4. loss backward\n",
        "   loss.backward()\n",
        "\n",
        "  #5. optimizer step\n",
        "   optimizer.step()\n",
        "\n",
        "###Testing\n",
        "   model_0.eval() #turns of different setting in the model not neede for evaluation. (droput layers/ batchnorm.id)\n",
        "   with torch.inference_mode():\n",
        "\n",
        "    #Do the forward pass\n",
        "     test_pred = model_0(X_test)\n",
        "\n",
        "    #Calculate the loss\n",
        "     test_loss = loss_fn(test_pred,y_test)\n",
        "\n",
        "\n",
        "   if epoch % 10 == 0:\n",
        "\n",
        "    epoch_count.append(epoch)\n",
        "    train_loss_values.append(loss.detach().numpy())\n",
        "    test_loss_values.append(test_loss.detach().numpy())\n",
        "\n",
        "    print(f\"Epoch : {epoch} | Loss: {loss} | test loss {test_loss}\")\n",
        "      #print out model  state_dict()\n",
        "   print(model_0.state_dict())"
      ],
      "metadata": {
        "colab": {
          "base_uri": "https://localhost:8080/"
        },
        "id": "pY8N9uCy0M8P",
        "outputId": "9d11ea1c-c787-4670-baec-bf5f9bc77b8d"
      },
      "execution_count": 150,
      "outputs": [
        {
          "output_type": "stream",
          "name": "stdout",
          "text": [
            "Epoch : 0 | Loss: 0.31288138031959534 | test loss 0.48106518387794495\n",
            "OrderedDict([('weights', tensor([0.3406])), ('bias', tensor([0.1388]))])\n",
            "OrderedDict([('weights', tensor([0.3445])), ('bias', tensor([0.1488]))])\n",
            "OrderedDict([('weights', tensor([0.3484])), ('bias', tensor([0.1588]))])\n",
            "OrderedDict([('weights', tensor([0.3523])), ('bias', tensor([0.1688]))])\n",
            "OrderedDict([('weights', tensor([0.3562])), ('bias', tensor([0.1788]))])\n",
            "OrderedDict([('weights', tensor([0.3601])), ('bias', tensor([0.1888]))])\n",
            "OrderedDict([('weights', tensor([0.3640])), ('bias', tensor([0.1988]))])\n",
            "OrderedDict([('weights', tensor([0.3679])), ('bias', tensor([0.2088]))])\n",
            "OrderedDict([('weights', tensor([0.3718])), ('bias', tensor([0.2188]))])\n",
            "OrderedDict([('weights', tensor([0.3757])), ('bias', tensor([0.2288]))])\n",
            "Epoch : 10 | Loss: 0.1976713240146637 | test loss 0.3463551998138428\n",
            "OrderedDict([('weights', tensor([0.3796])), ('bias', tensor([0.2388]))])\n",
            "OrderedDict([('weights', tensor([0.3835])), ('bias', tensor([0.2488]))])\n",
            "OrderedDict([('weights', tensor([0.3874])), ('bias', tensor([0.2588]))])\n",
            "OrderedDict([('weights', tensor([0.3913])), ('bias', tensor([0.2688]))])\n",
            "OrderedDict([('weights', tensor([0.3952])), ('bias', tensor([0.2788]))])\n",
            "OrderedDict([('weights', tensor([0.3991])), ('bias', tensor([0.2888]))])\n",
            "OrderedDict([('weights', tensor([0.4030])), ('bias', tensor([0.2988]))])\n",
            "OrderedDict([('weights', tensor([0.4069])), ('bias', tensor([0.3088]))])\n",
            "OrderedDict([('weights', tensor([0.4108])), ('bias', tensor([0.3178]))])\n",
            "OrderedDict([('weights', tensor([0.4146])), ('bias', tensor([0.3258]))])\n",
            "Epoch : 20 | Loss: 0.08908725529909134 | test loss 0.21729660034179688\n",
            "OrderedDict([('weights', tensor([0.4184])), ('bias', tensor([0.3333]))])\n",
            "OrderedDict([('weights', tensor([0.4222])), ('bias', tensor([0.3403]))])\n",
            "OrderedDict([('weights', tensor([0.4258])), ('bias', tensor([0.3463]))])\n",
            "OrderedDict([('weights', tensor([0.4293])), ('bias', tensor([0.3518]))])\n",
            "OrderedDict([('weights', tensor([0.4328])), ('bias', tensor([0.3568]))])\n",
            "OrderedDict([('weights', tensor([0.4361])), ('bias', tensor([0.3613]))])\n",
            "OrderedDict([('weights', tensor([0.4394])), ('bias', tensor([0.3653]))])\n",
            "OrderedDict([('weights', tensor([0.4425])), ('bias', tensor([0.3688]))])\n",
            "OrderedDict([('weights', tensor([0.4455])), ('bias', tensor([0.3718]))])\n",
            "OrderedDict([('weights', tensor([0.4483])), ('bias', tensor([0.3743]))])\n",
            "Epoch : 30 | Loss: 0.053148526698350906 | test loss 0.14464017748832703\n",
            "OrderedDict([('weights', tensor([0.4512])), ('bias', tensor([0.3768]))])\n",
            "OrderedDict([('weights', tensor([0.4539])), ('bias', tensor([0.3788]))])\n",
            "OrderedDict([('weights', tensor([0.4564])), ('bias', tensor([0.3803]))])\n",
            "OrderedDict([('weights', tensor([0.4590])), ('bias', tensor([0.3818]))])\n",
            "OrderedDict([('weights', tensor([0.4615])), ('bias', tensor([0.3833]))])\n",
            "OrderedDict([('weights', tensor([0.4639])), ('bias', tensor([0.3843]))])\n",
            "OrderedDict([('weights', tensor([0.4662])), ('bias', tensor([0.3853]))])\n",
            "OrderedDict([('weights', tensor([0.4684])), ('bias', tensor([0.3858]))])\n",
            "OrderedDict([('weights', tensor([0.4706])), ('bias', tensor([0.3863]))])\n",
            "OrderedDict([('weights', tensor([0.4728])), ('bias', tensor([0.3868]))])\n",
            "Epoch : 40 | Loss: 0.04543796554207802 | test loss 0.11360953003168106\n",
            "OrderedDict([('weights', tensor([0.4748])), ('bias', tensor([0.3868]))])\n",
            "OrderedDict([('weights', tensor([0.4768])), ('bias', tensor([0.3868]))])\n",
            "OrderedDict([('weights', tensor([0.4788])), ('bias', tensor([0.3868]))])\n",
            "OrderedDict([('weights', tensor([0.4808])), ('bias', tensor([0.3868]))])\n",
            "OrderedDict([('weights', tensor([0.4828])), ('bias', tensor([0.3868]))])\n",
            "OrderedDict([('weights', tensor([0.4848])), ('bias', tensor([0.3868]))])\n",
            "OrderedDict([('weights', tensor([0.4866])), ('bias', tensor([0.3863]))])\n",
            "OrderedDict([('weights', tensor([0.4884])), ('bias', tensor([0.3858]))])\n",
            "OrderedDict([('weights', tensor([0.4902])), ('bias', tensor([0.3853]))])\n",
            "OrderedDict([('weights', tensor([0.4920])), ('bias', tensor([0.3848]))])\n",
            "Epoch : 50 | Loss: 0.04167863354086876 | test loss 0.09919948130846024\n",
            "OrderedDict([('weights', tensor([0.4938])), ('bias', tensor([0.3843]))])\n",
            "OrderedDict([('weights', tensor([0.4956])), ('bias', tensor([0.3838]))])\n",
            "OrderedDict([('weights', tensor([0.4974])), ('bias', tensor([0.3833]))])\n",
            "OrderedDict([('weights', tensor([0.4992])), ('bias', tensor([0.3828]))])\n",
            "OrderedDict([('weights', tensor([0.5010])), ('bias', tensor([0.3823]))])\n",
            "OrderedDict([('weights', tensor([0.5028])), ('bias', tensor([0.3818]))])\n",
            "OrderedDict([('weights', tensor([0.5046])), ('bias', tensor([0.3813]))])\n",
            "OrderedDict([('weights', tensor([0.5064])), ('bias', tensor([0.3808]))])\n",
            "OrderedDict([('weights', tensor([0.5082])), ('bias', tensor([0.3803]))])\n",
            "OrderedDict([('weights', tensor([0.5100])), ('bias', tensor([0.3798]))])\n",
            "Epoch : 60 | Loss: 0.03818932920694351 | test loss 0.08886633068323135\n",
            "OrderedDict([('weights', tensor([0.5116])), ('bias', tensor([0.3788]))])\n",
            "OrderedDict([('weights', tensor([0.5134])), ('bias', tensor([0.3783]))])\n",
            "OrderedDict([('weights', tensor([0.5152])), ('bias', tensor([0.3778]))])\n",
            "OrderedDict([('weights', tensor([0.5168])), ('bias', tensor([0.3768]))])\n",
            "OrderedDict([('weights', tensor([0.5186])), ('bias', tensor([0.3763]))])\n",
            "OrderedDict([('weights', tensor([0.5202])), ('bias', tensor([0.3753]))])\n",
            "OrderedDict([('weights', tensor([0.5220])), ('bias', tensor([0.3748]))])\n",
            "OrderedDict([('weights', tensor([0.5236])), ('bias', tensor([0.3738]))])\n",
            "OrderedDict([('weights', tensor([0.5254])), ('bias', tensor([0.3733]))])\n",
            "OrderedDict([('weights', tensor([0.5272])), ('bias', tensor([0.3728]))])\n",
            "Epoch : 70 | Loss: 0.03476089984178543 | test loss 0.0805937647819519\n",
            "OrderedDict([('weights', tensor([0.5288])), ('bias', tensor([0.3718]))])\n",
            "OrderedDict([('weights', tensor([0.5306])), ('bias', tensor([0.3713]))])\n",
            "OrderedDict([('weights', tensor([0.5322])), ('bias', tensor([0.3703]))])\n",
            "OrderedDict([('weights', tensor([0.5340])), ('bias', tensor([0.3698]))])\n",
            "OrderedDict([('weights', tensor([0.5355])), ('bias', tensor([0.3688]))])\n",
            "OrderedDict([('weights', tensor([0.5373])), ('bias', tensor([0.3683]))])\n",
            "OrderedDict([('weights', tensor([0.5391])), ('bias', tensor([0.3678]))])\n",
            "OrderedDict([('weights', tensor([0.5407])), ('bias', tensor([0.3668]))])\n",
            "OrderedDict([('weights', tensor([0.5425])), ('bias', tensor([0.3663]))])\n",
            "OrderedDict([('weights', tensor([0.5441])), ('bias', tensor([0.3653]))])\n",
            "Epoch : 80 | Loss: 0.03132382780313492 | test loss 0.07232122868299484\n",
            "OrderedDict([('weights', tensor([0.5459])), ('bias', tensor([0.3648]))])\n",
            "OrderedDict([('weights', tensor([0.5475])), ('bias', tensor([0.3638]))])\n",
            "OrderedDict([('weights', tensor([0.5493])), ('bias', tensor([0.3633]))])\n",
            "OrderedDict([('weights', tensor([0.5509])), ('bias', tensor([0.3623]))])\n",
            "OrderedDict([('weights', tensor([0.5527])), ('bias', tensor([0.3618]))])\n",
            "OrderedDict([('weights', tensor([0.5545])), ('bias', tensor([0.3613]))])\n",
            "OrderedDict([('weights', tensor([0.5561])), ('bias', tensor([0.3603]))])\n",
            "OrderedDict([('weights', tensor([0.5579])), ('bias', tensor([0.3598]))])\n",
            "OrderedDict([('weights', tensor([0.5595])), ('bias', tensor([0.3588]))])\n",
            "OrderedDict([('weights', tensor([0.5613])), ('bias', tensor([0.3583]))])\n",
            "Epoch : 90 | Loss: 0.02788739837706089 | test loss 0.06473556160926819\n",
            "OrderedDict([('weights', tensor([0.5629])), ('bias', tensor([0.3573]))])\n",
            "OrderedDict([('weights', tensor([0.5647])), ('bias', tensor([0.3568]))])\n",
            "OrderedDict([('weights', tensor([0.5665])), ('bias', tensor([0.3563]))])\n",
            "OrderedDict([('weights', tensor([0.5681])), ('bias', tensor([0.3553]))])\n",
            "OrderedDict([('weights', tensor([0.5699])), ('bias', tensor([0.3548]))])\n",
            "OrderedDict([('weights', tensor([0.5715])), ('bias', tensor([0.3538]))])\n",
            "OrderedDict([('weights', tensor([0.5733])), ('bias', tensor([0.3533]))])\n",
            "OrderedDict([('weights', tensor([0.5748])), ('bias', tensor([0.3523]))])\n",
            "OrderedDict([('weights', tensor([0.5766])), ('bias', tensor([0.3518]))])\n",
            "OrderedDict([('weights', tensor([0.5784])), ('bias', tensor([0.3513]))])\n",
            "Epoch : 100 | Loss: 0.024458957836031914 | test loss 0.05646304413676262\n",
            "OrderedDict([('weights', tensor([0.5800])), ('bias', tensor([0.3503]))])\n",
            "OrderedDict([('weights', tensor([0.5818])), ('bias', tensor([0.3498]))])\n",
            "OrderedDict([('weights', tensor([0.5834])), ('bias', tensor([0.3488]))])\n",
            "OrderedDict([('weights', tensor([0.5852])), ('bias', tensor([0.3483]))])\n",
            "OrderedDict([('weights', tensor([0.5868])), ('bias', tensor([0.3473]))])\n",
            "OrderedDict([('weights', tensor([0.5886])), ('bias', tensor([0.3468]))])\n",
            "OrderedDict([('weights', tensor([0.5902])), ('bias', tensor([0.3458]))])\n",
            "OrderedDict([('weights', tensor([0.5920])), ('bias', tensor([0.3453]))])\n",
            "OrderedDict([('weights', tensor([0.5938])), ('bias', tensor([0.3448]))])\n",
            "OrderedDict([('weights', tensor([0.5954])), ('bias', tensor([0.3438]))])\n",
            "Epoch : 110 | Loss: 0.021020207554101944 | test loss 0.04819049686193466\n",
            "OrderedDict([('weights', tensor([0.5972])), ('bias', tensor([0.3433]))])\n",
            "OrderedDict([('weights', tensor([0.5988])), ('bias', tensor([0.3423]))])\n",
            "OrderedDict([('weights', tensor([0.6006])), ('bias', tensor([0.3418]))])\n",
            "OrderedDict([('weights', tensor([0.6022])), ('bias', tensor([0.3408]))])\n",
            "OrderedDict([('weights', tensor([0.6040])), ('bias', tensor([0.3403]))])\n",
            "OrderedDict([('weights', tensor([0.6058])), ('bias', tensor([0.3398]))])\n",
            "OrderedDict([('weights', tensor([0.6074])), ('bias', tensor([0.3388]))])\n",
            "OrderedDict([('weights', tensor([0.6092])), ('bias', tensor([0.3383]))])\n",
            "OrderedDict([('weights', tensor([0.6108])), ('bias', tensor([0.3373]))])\n",
            "OrderedDict([('weights', tensor([0.6126])), ('bias', tensor([0.3368]))])\n",
            "Epoch : 120 | Loss: 0.01758546568453312 | test loss 0.04060482233762741\n",
            "OrderedDict([('weights', tensor([0.6141])), ('bias', tensor([0.3358]))])\n",
            "OrderedDict([('weights', tensor([0.6159])), ('bias', tensor([0.3353]))])\n",
            "OrderedDict([('weights', tensor([0.6175])), ('bias', tensor([0.3343]))])\n",
            "OrderedDict([('weights', tensor([0.6193])), ('bias', tensor([0.3338]))])\n",
            "OrderedDict([('weights', tensor([0.6211])), ('bias', tensor([0.3333]))])\n",
            "OrderedDict([('weights', tensor([0.6227])), ('bias', tensor([0.3323]))])\n",
            "OrderedDict([('weights', tensor([0.6245])), ('bias', tensor([0.3318]))])\n",
            "OrderedDict([('weights', tensor([0.6261])), ('bias', tensor([0.3308]))])\n",
            "OrderedDict([('weights', tensor([0.6279])), ('bias', tensor([0.3303]))])\n",
            "OrderedDict([('weights', tensor([0.6295])), ('bias', tensor([0.3293]))])\n",
            "Epoch : 130 | Loss: 0.014155393466353416 | test loss 0.03233227878808975\n",
            "OrderedDict([('weights', tensor([0.6313])), ('bias', tensor([0.3288]))])\n",
            "OrderedDict([('weights', tensor([0.6331])), ('bias', tensor([0.3283]))])\n",
            "OrderedDict([('weights', tensor([0.6347])), ('bias', tensor([0.3273]))])\n",
            "OrderedDict([('weights', tensor([0.6365])), ('bias', tensor([0.3268]))])\n",
            "OrderedDict([('weights', tensor([0.6381])), ('bias', tensor([0.3258]))])\n",
            "OrderedDict([('weights', tensor([0.6399])), ('bias', tensor([0.3253]))])\n",
            "OrderedDict([('weights', tensor([0.6415])), ('bias', tensor([0.3243]))])\n",
            "OrderedDict([('weights', tensor([0.6433])), ('bias', tensor([0.3238]))])\n",
            "OrderedDict([('weights', tensor([0.6451])), ('bias', tensor([0.3233]))])\n",
            "OrderedDict([('weights', tensor([0.6467])), ('bias', tensor([0.3223]))])\n",
            "Epoch : 140 | Loss: 0.010716589167714119 | test loss 0.024059748277068138\n",
            "OrderedDict([('weights', tensor([0.6485])), ('bias', tensor([0.3218]))])\n",
            "OrderedDict([('weights', tensor([0.6501])), ('bias', tensor([0.3208]))])\n",
            "OrderedDict([('weights', tensor([0.6519])), ('bias', tensor([0.3203]))])\n",
            "OrderedDict([('weights', tensor([0.6534])), ('bias', tensor([0.3193]))])\n",
            "OrderedDict([('weights', tensor([0.6552])), ('bias', tensor([0.3188]))])\n",
            "OrderedDict([('weights', tensor([0.6568])), ('bias', tensor([0.3178]))])\n",
            "OrderedDict([('weights', tensor([0.6586])), ('bias', tensor([0.3173]))])\n",
            "OrderedDict([('weights', tensor([0.6604])), ('bias', tensor([0.3168]))])\n",
            "OrderedDict([('weights', tensor([0.6620])), ('bias', tensor([0.3158]))])\n",
            "OrderedDict([('weights', tensor([0.6638])), ('bias', tensor([0.3153]))])\n",
            "Epoch : 150 | Loss: 0.0072835334576666355 | test loss 0.016474086791276932\n",
            "OrderedDict([('weights', tensor([0.6654])), ('bias', tensor([0.3143]))])\n",
            "OrderedDict([('weights', tensor([0.6672])), ('bias', tensor([0.3138]))])\n",
            "OrderedDict([('weights', tensor([0.6688])), ('bias', tensor([0.3128]))])\n",
            "OrderedDict([('weights', tensor([0.6706])), ('bias', tensor([0.3123]))])\n",
            "OrderedDict([('weights', tensor([0.6724])), ('bias', tensor([0.3118]))])\n",
            "OrderedDict([('weights', tensor([0.6740])), ('bias', tensor([0.3108]))])\n",
            "OrderedDict([('weights', tensor([0.6758])), ('bias', tensor([0.3103]))])\n",
            "OrderedDict([('weights', tensor([0.6774])), ('bias', tensor([0.3093]))])\n",
            "OrderedDict([('weights', tensor([0.6792])), ('bias', tensor([0.3088]))])\n",
            "OrderedDict([('weights', tensor([0.6808])), ('bias', tensor([0.3078]))])\n",
            "Epoch : 160 | Loss: 0.0038517764769494534 | test loss 0.008201557211577892\n",
            "OrderedDict([('weights', tensor([0.6826])), ('bias', tensor([0.3073]))])\n",
            "OrderedDict([('weights', tensor([0.6844])), ('bias', tensor([0.3068]))])\n",
            "OrderedDict([('weights', tensor([0.6860])), ('bias', tensor([0.3058]))])\n",
            "OrderedDict([('weights', tensor([0.6878])), ('bias', tensor([0.3053]))])\n",
            "OrderedDict([('weights', tensor([0.6894])), ('bias', tensor([0.3043]))])\n",
            "OrderedDict([('weights', tensor([0.6912])), ('bias', tensor([0.3038]))])\n",
            "OrderedDict([('weights', tensor([0.6927])), ('bias', tensor([0.3028]))])\n",
            "OrderedDict([('weights', tensor([0.6947])), ('bias', tensor([0.3028]))])\n",
            "OrderedDict([('weights', tensor([0.6951])), ('bias', tensor([0.2993]))])\n",
            "OrderedDict([('weights', tensor([0.6990])), ('bias', tensor([0.3093]))])\n",
            "Epoch : 170 | Loss: 0.008932482451200485 | test loss 0.005023092031478882\n",
            "OrderedDict([('weights', tensor([0.6951])), ('bias', tensor([0.2993]))])\n",
            "OrderedDict([('weights', tensor([0.6990])), ('bias', tensor([0.3093]))])\n",
            "OrderedDict([('weights', tensor([0.6951])), ('bias', tensor([0.2993]))])\n",
            "OrderedDict([('weights', tensor([0.6990])), ('bias', tensor([0.3093]))])\n",
            "OrderedDict([('weights', tensor([0.6951])), ('bias', tensor([0.2993]))])\n",
            "OrderedDict([('weights', tensor([0.6990])), ('bias', tensor([0.3093]))])\n",
            "OrderedDict([('weights', tensor([0.6951])), ('bias', tensor([0.2993]))])\n",
            "OrderedDict([('weights', tensor([0.6990])), ('bias', tensor([0.3093]))])\n",
            "OrderedDict([('weights', tensor([0.6951])), ('bias', tensor([0.2993]))])\n",
            "OrderedDict([('weights', tensor([0.6990])), ('bias', tensor([0.3093]))])\n",
            "Epoch : 180 | Loss: 0.008932482451200485 | test loss 0.005023092031478882\n",
            "OrderedDict([('weights', tensor([0.6951])), ('bias', tensor([0.2993]))])\n",
            "OrderedDict([('weights', tensor([0.6990])), ('bias', tensor([0.3093]))])\n",
            "OrderedDict([('weights', tensor([0.6951])), ('bias', tensor([0.2993]))])\n",
            "OrderedDict([('weights', tensor([0.6990])), ('bias', tensor([0.3093]))])\n",
            "OrderedDict([('weights', tensor([0.6951])), ('bias', tensor([0.2993]))])\n",
            "OrderedDict([('weights', tensor([0.6990])), ('bias', tensor([0.3093]))])\n",
            "OrderedDict([('weights', tensor([0.6951])), ('bias', tensor([0.2993]))])\n",
            "OrderedDict([('weights', tensor([0.6990])), ('bias', tensor([0.3093]))])\n",
            "OrderedDict([('weights', tensor([0.6951])), ('bias', tensor([0.2993]))])\n",
            "OrderedDict([('weights', tensor([0.6990])), ('bias', tensor([0.3093]))])\n",
            "Epoch : 190 | Loss: 0.008932482451200485 | test loss 0.005023092031478882\n",
            "OrderedDict([('weights', tensor([0.6951])), ('bias', tensor([0.2993]))])\n",
            "OrderedDict([('weights', tensor([0.6990])), ('bias', tensor([0.3093]))])\n",
            "OrderedDict([('weights', tensor([0.6951])), ('bias', tensor([0.2993]))])\n",
            "OrderedDict([('weights', tensor([0.6990])), ('bias', tensor([0.3093]))])\n",
            "OrderedDict([('weights', tensor([0.6951])), ('bias', tensor([0.2993]))])\n",
            "OrderedDict([('weights', tensor([0.6990])), ('bias', tensor([0.3093]))])\n",
            "OrderedDict([('weights', tensor([0.6951])), ('bias', tensor([0.2993]))])\n",
            "OrderedDict([('weights', tensor([0.6990])), ('bias', tensor([0.3093]))])\n",
            "OrderedDict([('weights', tensor([0.6951])), ('bias', tensor([0.2993]))])\n",
            "OrderedDict([('weights', tensor([0.6990])), ('bias', tensor([0.3093]))])\n"
          ]
        }
      ]
    },
    {
      "cell_type": "code",
      "source": [
        "# plot the loss curves\n",
        "plt.plot(epoch_count, train_loss_values, label=\"train loss\")\n",
        "plt.plot(epoch_count, test_loss_values, label=\"test loss\")\n",
        "plt.title(\"Training and test loss curves\")\n",
        "plt.ylabel(\"Loss\")\n",
        "plt.xlabel(\"Epochs\")\n",
        "plt.legend()"
      ],
      "metadata": {
        "colab": {
          "base_uri": "https://localhost:8080/",
          "height": 489
        },
        "id": "-rGXpivXpTto",
        "outputId": "e19d586b-2a19-459c-f35f-0eb4120ef29d"
      },
      "execution_count": 151,
      "outputs": [
        {
          "output_type": "execute_result",
          "data": {
            "text/plain": [
              "<matplotlib.legend.Legend at 0x7d69cfd09310>"
            ]
          },
          "metadata": {},
          "execution_count": 151
        },
        {
          "output_type": "display_data",
          "data": {
            "text/plain": [
              "<Figure size 640x480 with 1 Axes>"
            ],
            "image/png": "[encoded data removed]"
          },
          "metadata": {}
        }
      ]
    },
    {
      "cell_type": "code",
      "source": [
        "with torch.inference_mode():\n",
        "  y_preds = model_0(X_test)"
      ],
      "metadata": {
        "id": "Le1zh8wFbvcS"
      },
      "execution_count": 152,
      "outputs": []
    },
    {
      "cell_type": "code",
      "source": [
        "plot_predictions(predictions=y_preds)"
      ],
      "metadata": {
        "colab": {
          "base_uri": "https://localhost:8080/",
          "height": 599
        },
        "id": "N6Q1tNrt0M5t",
        "outputId": "55201fe9-ff43-4dbb-84c4-4701060fe80a"
      },
      "execution_count": 153,
      "outputs": [
        {
          "output_type": "display_data",
          "data": {
            "text/plain": [
              "<Figure size 1000x700 with 1 Axes>"
            ],
            "image/png": "[encoded data removed]"
          },
          "metadata": {}
        }
      ]
    },
    {
      "cell_type": "markdown",
      "source": [
        "## 4.Saving a model in pyTorch"
      ],
      "metadata": {
        "id": "OXHYsJ8kTjS8"
      }
    },
    {
      "cell_type": "markdown",
      "source": [
        " There are three main methods you should know about saving and loading models in PyTorch\n",
        "\n",
        " 1.torch.save -> allows to save objext in pickle format.\n",
        " 2.torch.load <br>\n",
        "\n",
        " 3  torch.nn.Module.load_state_dict() -> allows to load a model's saved state dictionary."
      ],
      "metadata": {
        "id": "DPApA2fG8B79"
      }
    },
    {
      "cell_type": "code",
      "source": [
        "model_0.state_dict()"
      ],
      "metadata": {
        "id": "_yxQJiBjTjPa",
        "colab": {
          "base_uri": "https://localhost:8080/"
        },
        "outputId": "541a894e-4509-4874-f06f-27ca00dd9358"
      },
      "execution_count": 154,
      "outputs": [
        {
          "output_type": "execute_result",
          "data": {
            "text/plain": [
              "OrderedDict([('weights', tensor([0.6990])), ('bias', tensor([0.3093]))])"
            ]
          },
          "metadata": {},
          "execution_count": 154
        }
      ]
    },
    {
      "cell_type": "code",
      "source": [
        "#saving  our pyTorch model\n",
        "from pathlib import Path\n",
        "\n",
        "# 1. Create models directory\n",
        "MODEL_PATH = Path(\"models\")\n",
        "MODEL_PATH.mkdir(parents=True, exist_ok=True)\n",
        "\n",
        "# 2. Create model save path\n",
        "MODEL_NAME = \"01_workflow.pth\"\n",
        "MODEL_SAVE_PATH = MODEL_PATH/MODEL_NAME\n",
        "\n",
        "MODEL_SAVE_PATH\n",
        "\n",
        "# 3. save the model state dict\n",
        "print(f\" saving model to :{MODEL_SAVE_PATH}\")\n",
        "torch.save(obj=model_0.state_dict(),\n",
        "           f=MODEL_SAVE_PATH)"
      ],
      "metadata": {
        "id": "gSJrmE-rTjM-",
        "colab": {
          "base_uri": "https://localhost:8080/"
        },
        "outputId": "79e8819b-8589-4a1e-ed02-ccca3b5416ef"
      },
      "execution_count": 155,
      "outputs": [
        {
          "output_type": "stream",
          "name": "stdout",
          "text": [
            " saving model to :models/01_workflow.pth\n"
          ]
        }
      ]
    },
    {
      "cell_type": "code",
      "source": [
        "!ls -1 models"
      ],
      "metadata": {
        "id": "rmOTeMX9TjKa",
        "colab": {
          "base_uri": "https://localhost:8080/"
        },
        "outputId": "865ed469-c011-4de3-c1a1-4b258e30facc"
      },
      "execution_count": 156,
      "outputs": [
        {
          "output_type": "stream",
          "name": "stdout",
          "text": [
            "01_workflow.pth\n"
          ]
        }
      ]
    },
    {
      "cell_type": "markdown",
      "source": [
        "## 5.Loading a pyTorch model\n",
        "\n",
        "Since we saved our model's 'state_dict()' rather the entire model, we create a new instance of our model class and saved \"state_dict()\" into that"
      ],
      "metadata": {
        "id": "D9tN7VLFTjH-"
      }
    },
    {
      "cell_type": "code",
      "source": [
        "# To load in saved state_dict() we have to instantiate a new onstance of our model class\n",
        "loaded_model_0 = LinearRegressionModel()\n",
        "\n",
        "#load the saved state_dict() of model_0\n",
        "loaded_model_0.load_state_dict(torch.load(f=MODEL_SAVE_PATH))\n",
        "\n"
      ],
      "metadata": {
        "id": "cBFcvQcqTjFV",
        "colab": {
          "base_uri": "https://localhost:8080/"
        },
        "outputId": "0a63f139-8d2d-410f-a1f5-e30c32b07b98"
      },
      "execution_count": 157,
      "outputs": [
        {
          "output_type": "execute_result",
          "data": {
            "text/plain": [
              "<All keys matched successfully>"
            ]
          },
          "metadata": {},
          "execution_count": 157
        }
      ]
    },
    {
      "cell_type": "code",
      "source": [
        "loaded_model_0.state_dict()"
      ],
      "metadata": {
        "colab": {
          "base_uri": "https://localhost:8080/"
        },
        "id": "jABl0ZXeBMbX",
        "outputId": "d3013502-5505-4847-af1a-5c8350dbe7b1"
      },
      "execution_count": 158,
      "outputs": [
        {
          "output_type": "execute_result",
          "data": {
            "text/plain": [
              "OrderedDict([('weights', tensor([0.6990])), ('bias', tensor([0.3093]))])"
            ]
          },
          "metadata": {},
          "execution_count": 158
        }
      ]
    },
    {
      "cell_type": "code",
      "source": [
        "# Make some predictions with our loaded model\n",
        "loaded_model_0.eval()\n",
        "with torch.inference_mode():\n",
        "  loaded_model_preds = loaded_model_0(X_test)\n",
        "\n",
        "loaded_model_preds"
      ],
      "metadata": {
        "colab": {
          "base_uri": "https://localhost:8080/"
        },
        "id": "ILMahLVoBMYD",
        "outputId": "5e621481-8df1-429a-9058-7e3dc0877abb"
      },
      "execution_count": 159,
      "outputs": [
        {
          "output_type": "execute_result",
          "data": {
            "text/plain": [
              "tensor([[0.8685],\n",
              "        [0.8825],\n",
              "        [0.8965],\n",
              "        [0.9105],\n",
              "        [0.9245],\n",
              "        [0.9384],\n",
              "        [0.9524],\n",
              "        [0.9664],\n",
              "        [0.9804],\n",
              "        [0.9944]])"
            ]
          },
          "metadata": {},
          "execution_count": 159
        }
      ]
    },
    {
      "cell_type": "code",
      "source": [
        "#compare loaded models preds with original model preds\n",
        "y_preds == loaded_model_preds"
      ],
      "metadata": {
        "colab": {
          "base_uri": "https://localhost:8080/"
        },
        "id": "9BmzBx-BBMVz",
        "outputId": "025cd46d-013b-48d0-df40-bf37bd659ac5"
      },
      "execution_count": 160,
      "outputs": [
        {
          "output_type": "execute_result",
          "data": {
            "text/plain": [
              "tensor([[True],\n",
              "        [True],\n",
              "        [True],\n",
              "        [True],\n",
              "        [True],\n",
              "        [True],\n",
              "        [True],\n",
              "        [True],\n",
              "        [True],\n",
              "        [True]])"
            ]
          },
          "metadata": {},
          "execution_count": 160
        }
      ]
    },
    {
      "cell_type": "markdown",
      "source": [
        "## 6.Putting it all together\n",
        "\n",
        "Let's go back through the steps above and see it all in one place."
      ],
      "metadata": {
        "id": "gXThUUAsBMTc"
      }
    },
    {
      "cell_type": "code",
      "source": [
        "#Import pYtorchand matplotlib\n",
        "import torch\n",
        "from torch import nn\n",
        "import matplotlib.pyplot as plt\n",
        "\n",
        "# Check pyTorch version\n",
        "torch.__version__"
      ],
      "metadata": {
        "colab": {
          "base_uri": "https://localhost:8080/",
          "height": 36
        },
        "id": "mf8BdoA3BMRu",
        "outputId": "0e7ffd85-8761-4479-b50e-550f2ca5a854"
      },
      "execution_count": 161,
      "outputs": [
        {
          "output_type": "execute_result",
          "data": {
            "text/plain": [
              "'2.6.0+cu124'"
            ],
            "application/vnd.google.colaboratory.intrinsic+json": {
              "type": "string"
            }
          },
          "metadata": {},
          "execution_count": 161
        }
      ]
    },
    {
      "cell_type": "markdown",
      "source": [
        "Create device-agnostic code.\n",
        "\n",
        "This means if we have got access to a GPU ,our code will use it . if no GPU is available , the code will default to using CPU."
      ],
      "metadata": {
        "id": "fr1IjdTMGENq"
      }
    },
    {
      "cell_type": "code",
      "source": [
        "#check the model current device\n",
        "next(model_0.parameters()).device"
      ],
      "metadata": {
        "colab": {
          "base_uri": "https://localhost:8080/"
        },
        "id": "5I-KUgLUSseI",
        "outputId": "9a83a6ef-0044-49af-f623-f5db6d89d997"
      },
      "execution_count": 162,
      "outputs": [
        {
          "output_type": "execute_result",
          "data": {
            "text/plain": [
              "device(type='cpu')"
            ]
          },
          "metadata": {},
          "execution_count": 162
        }
      ]
    },
    {
      "cell_type": "code",
      "source": [
        "# setup device agnostic code\n",
        "device = \"cuda\" if torch.cuda.is_available() else \"cpu\"\n",
        "device"
      ],
      "metadata": {
        "colab": {
          "base_uri": "https://localhost:8080/",
          "height": 36
        },
        "id": "QBRgWlLdBMPl",
        "outputId": "46cf2b4b-0ad2-4b2f-a63d-e47186cabea9"
      },
      "execution_count": 163,
      "outputs": [
        {
          "output_type": "execute_result",
          "data": {
            "text/plain": [
              "'cuda'"
            ],
            "application/vnd.google.colaboratory.intrinsic+json": {
              "type": "string"
            }
          },
          "metadata": {},
          "execution_count": 163
        }
      ]
    },
    {
      "cell_type": "code",
      "source": [
        "# Create some data using the linear regression formula of y=weight * X + bias\n",
        "weight = 0.7\n",
        "bias = 0.3\n",
        "\n",
        "# Create range values\n",
        "start = 0\n",
        "end = 10\n",
        "step = 0.2\n",
        "\n",
        "# Create X and y features and labels\n",
        "X = torch.arange(start, end, step).unsqueeze(dim=1)\n",
        "y = weight * X + bias\n",
        "\n",
        "X[:10], y[:10]"
      ],
      "metadata": {
        "colab": {
          "base_uri": "https://localhost:8080/"
        },
        "id": "p_0jF5AuBMLa",
        "outputId": "1f5ade03-f86f-469e-c01c-2845daab84d9"
      },
      "execution_count": 164,
      "outputs": [
        {
          "output_type": "execute_result",
          "data": {
            "text/plain": [
              "(tensor([[0.0000],\n",
              "         [0.2000],\n",
              "         [0.4000],\n",
              "         [0.6000],\n",
              "         [0.8000],\n",
              "         [1.0000],\n",
              "         [1.2000],\n",
              "         [1.4000],\n",
              "         [1.6000],\n",
              "         [1.8000]]),\n",
              " tensor([[0.3000],\n",
              "         [0.4400],\n",
              "         [0.5800],\n",
              "         [0.7200],\n",
              "         [0.8600],\n",
              "         [1.0000],\n",
              "         [1.1400],\n",
              "         [1.2800],\n",
              "         [1.4200],\n",
              "         [1.5600]]))"
            ]
          },
          "metadata": {},
          "execution_count": 164
        }
      ]
    },
    {
      "cell_type": "code",
      "source": [
        "# split the data\n",
        "train_split = int(0.8 * len(X))\n",
        "X_train, y_train = X[:train_split], y[:train_split]\n",
        "X_test, y_test = X[train_split:], y[train_split:]\n",
        "len(X_train), len(y_train), len(X_test), len(y_test)"
      ],
      "metadata": {
        "colab": {
          "base_uri": "https://localhost:8080/"
        },
        "id": "h8tDagTsBMHe",
        "outputId": "9f09ca3a-c0b7-4a1b-8933-0ea6915e7fa3"
      },
      "execution_count": 165,
      "outputs": [
        {
          "output_type": "execute_result",
          "data": {
            "text/plain": [
              "(40, 40, 10, 10)"
            ]
          },
          "metadata": {},
          "execution_count": 165
        }
      ]
    },
    {
      "cell_type": "code",
      "source": [
        "#plot the data\n",
        "plot_predictions(X_train, y_train, X_test, y_test)\n"
      ],
      "metadata": {
        "colab": {
          "base_uri": "https://localhost:8080/",
          "height": 599
        },
        "id": "eYvBJE68F_zL",
        "outputId": "0dc5b4b3-d333-4e04-b47a-e402d0f66e75"
      },
      "execution_count": 166,
      "outputs": [
        {
          "output_type": "display_data",
          "data": {
            "text/plain": [
              "<Figure size 1000x700 with 1 Axes>"
            ],
            "image/png": "[encoded data removed]"
          },
          "metadata": {}
        }
      ]
    },
    {
      "cell_type": "code",
      "source": [
        "def plot_predictions(train_data=X_train,\n",
        "                     train_labels=y_train,\n",
        "                     test_data=X_test,\n",
        "                     test_labels=y_test,\n",
        "                     predictions=None):\n",
        "  \"\"\"\n",
        "  Plots training data, test data and compares predictions.\n",
        "  \"\"\"\n",
        "  plt.figure(figsize=(10, 7))\n",
        "\n",
        "  # Plot training data in blue\n",
        "  plt.scatter(train_data, train_labels, c=\"b\", s=4, label=\"Training data\")\n",
        "\n",
        "  #plot testing data in green\n",
        "  plt.scatter(test_data, test_data , c='g' , s=4,label=\"testing data\")\n",
        "\n",
        "  # Are  there predictions?\n",
        "  if predictions is not None:\n",
        "    plt.scatter(test_data, predictions, c=\"r\", s=4, label=\"Predictions\")\n",
        "\n",
        "  #show legend\n",
        "  plt.legend(prop={\"size\": 14})"
      ],
      "metadata": {
        "id": "2eKsWzf8F_xc"
      },
      "execution_count": 167,
      "outputs": []
    },
    {
      "cell_type": "code",
      "source": [
        "plot_predictions()"
      ],
      "metadata": {
        "colab": {
          "base_uri": "https://localhost:8080/",
          "height": 599
        },
        "id": "hU8lk26BF_ug",
        "outputId": "e69cc61f-b29e-4b91-b8d3-101d36a77a6b"
      },
      "execution_count": 168,
      "outputs": [
        {
          "output_type": "display_data",
          "data": {
            "text/plain": [
              "<Figure size 1000x700 with 1 Axes>"
            ],
            "image/png": "[encoded data removed]"
          },
          "metadata": {}
        }
      ]
    },
    {
      "cell_type": "markdown",
      "source": [
        "## 6.2 Build a pyTorch Linear model"
      ],
      "metadata": {
        "id": "kRwhYioWF_sq"
      }
    },
    {
      "cell_type": "code",
      "source": [
        "# Create a linear model by subclassing nn.module\n",
        "class LinearRegressionModelV2(nn.Module):\n",
        "  def __init__(self):\n",
        "    super().__init__()\n",
        "    # use nn.linear() for creating the model parameter\n",
        "    self.linear_layer = nn.Linear(in_features=1,\n",
        "                                  out_features=1)\n",
        "  def forward(self ,x: torch.Tensor ) -> torch.Tensor :\n",
        "   return self.linear_layer(x)\n",
        "\n",
        "# set the menu seed\n",
        "torch.manual_seed(42)\n",
        "\n",
        "# Create an instance of the model\n",
        "model_1 = LinearRegressionModelV2()\n",
        "model_1, model_1.state_dict()"
      ],
      "metadata": {
        "colab": {
          "base_uri": "https://localhost:8080/"
        },
        "id": "n89HwC3lF_o6",
        "outputId": "b0219958-b9c9-47be-c6a4-cb08b9ca622b"
      },
      "execution_count": 169,
      "outputs": [
        {
          "output_type": "execute_result",
          "data": {
            "text/plain": [
              "(LinearRegressionModelV2(\n",
              "   (linear_layer): Linear(in_features=1, out_features=1, bias=True)\n",
              " ),\n",
              " OrderedDict([('linear_layer.weight', tensor([[0.7645]])),\n",
              "              ('linear_layer.bias', tensor([0.8300]))]))"
            ]
          },
          "metadata": {},
          "execution_count": 169
        }
      ]
    },
    {
      "cell_type": "code",
      "source": [
        "X_train[:5], y_train[:5]"
      ],
      "metadata": {
        "colab": {
          "base_uri": "https://localhost:8080/"
        },
        "id": "523e7bFwL8gF",
        "outputId": "8edb2592-2201-4fab-fe7e-94f0f644f0fb"
      },
      "execution_count": 170,
      "outputs": [
        {
          "output_type": "execute_result",
          "data": {
            "text/plain": [
              "(tensor([[0.0000],\n",
              "         [0.2000],\n",
              "         [0.4000],\n",
              "         [0.6000],\n",
              "         [0.8000]]),\n",
              " tensor([[0.3000],\n",
              "         [0.4400],\n",
              "         [0.5800],\n",
              "         [0.7200],\n",
              "         [0.8600]]))"
            ]
          },
          "metadata": {},
          "execution_count": 170
        }
      ]
    },
    {
      "cell_type": "code",
      "source": [
        "#set the model to use the  target device\n",
        "model_1.to(device)\n",
        "next(model_1.parameters()).device"
      ],
      "metadata": {
        "colab": {
          "base_uri": "https://localhost:8080/"
        },
        "id": "S7wLyLOLL8c-",
        "outputId": "ebe40ef3-d675-4440-c750-bde51834cb9e"
      },
      "execution_count": 171,
      "outputs": [
        {
          "output_type": "execute_result",
          "data": {
            "text/plain": [
              "device(type='cuda', index=0)"
            ]
          },
          "metadata": {},
          "execution_count": 171
        }
      ]
    },
    {
      "cell_type": "markdown",
      "source": [
        "### 6.3 Training\n",
        "\n",
        "For training we need:\n",
        "1. Loss function\n",
        "2. Optimizer\n",
        "3. Training loop\n",
        "4. Testing loop"
      ],
      "metadata": {
        "id": "-7S_Hb-bL8aY"
      }
    },
    {
      "cell_type": "code",
      "source": [
        "# Set up the loss function\n",
        "loss_fn = nn.L1Loss()\n",
        "\n",
        "# Set up the optimizer\n",
        "optimizer = torch.optim.SGD(params=model_1.parameters(),\n",
        "                            lr=0.01)\n"
      ],
      "metadata": {
        "id": "g2wuYBOxL8YB"
      },
      "execution_count": 172,
      "outputs": []
    },
    {
      "cell_type": "code",
      "source": [
        "# Traing loop\n",
        "torch.manual_seed(42)\n",
        "\n",
        "epochs = 200\n",
        "\n",
        "#put data on the target device\n",
        "X_train = X_train.to(device)\n",
        "y_train = y_train.to(device)\n",
        "X_test = X_test.to(device)\n",
        "y_test = y_test.to(device)\n",
        "\n",
        "for epoch in range(epochs):\n",
        "  model_1.train()\n",
        "\n",
        "  # 1. Forward pass\n",
        "  y_pred = model_1(X_train)\n",
        "\n",
        "  # 2. Calculate the loss\n",
        "  loss = loss_fn(y_pred, y_train)\n",
        "\n",
        "  # 3. Optimizer zero_grad\n",
        "  optimizer.zero_grad()\n",
        "\n",
        "  # 4. Perform backpropagation\n",
        "  loss.backward()\n",
        "\n",
        "  # 5. Optimizer step\n",
        "  optimizer.step()\n",
        "\n",
        "  ### Testing\n",
        "\n",
        "  model_1.eval()\n",
        "  with torch.inference_mode():\n",
        "    test_pred = model_1(X_test)\n",
        "\n",
        "    test_loss = loss_fn(test_pred, y_test)\n",
        "\n",
        "  if epoch % 10 == 0:\n",
        "    print(f\"Epoch: {epoch} | Loss: {loss} | Test loss: {test_loss}\")"
      ],
      "metadata": {
        "colab": {
          "base_uri": "https://localhost:8080/"
        },
        "id": "g0FQP6G-L8Vn",
        "outputId": "95faaaf7-5a1c-4c57-eb07-bf867598ae0a"
      },
      "execution_count": 173,
      "outputs": [
        {
          "output_type": "stream",
          "name": "stdout",
          "text": [
            "Epoch: 0 | Loss: 0.7817081809043884 | Test loss: 0.7473010420799255\n",
            "Epoch: 10 | Loss: 0.19652661681175232 | Test loss: 0.2781277298927307\n",
            "Epoch: 20 | Loss: 0.1793585866689682 | Test loss: 0.26216673851013184\n",
            "Epoch: 30 | Loss: 0.16205456852912903 | Test loss: 0.22078542411327362\n",
            "Epoch: 40 | Loss: 0.1448865681886673 | Test loss: 0.20482444763183594\n",
            "Epoch: 50 | Loss: 0.12771852314472198 | Test loss: 0.18886347115039825\n",
            "Epoch: 60 | Loss: 0.11042648553848267 | Test loss: 0.1483727991580963\n",
            "Epoch: 70 | Loss: 0.09328257292509079 | Test loss: 0.13419309258460999\n",
            "Epoch: 80 | Loss: 0.07640358060598373 | Test loss: 0.09459300339221954\n",
            "Epoch: 90 | Loss: 0.121028833091259 | Test loss: 0.06384315341711044\n",
            "Epoch: 100 | Loss: 0.07807107269763947 | Test loss: 0.03526773676276207\n",
            "Epoch: 110 | Loss: 0.10453517735004425 | Test loss: 0.020058298483490944\n",
            "Epoch: 120 | Loss: 0.10417435318231583 | Test loss: 0.045448970049619675\n",
            "Epoch: 130 | Loss: 0.12074585258960724 | Test loss: 0.027390480041503906\n",
            "Epoch: 140 | Loss: 0.08912048488855362 | Test loss: 0.10906153172254562\n",
            "Epoch: 150 | Loss: 0.11449506133794785 | Test loss: 0.07147207111120224\n",
            "Epoch: 160 | Loss: 0.1255764216184616 | Test loss: 0.05518326908349991\n",
            "Epoch: 170 | Loss: 0.13202576339244843 | Test loss: 0.0471249595284462\n",
            "Epoch: 180 | Loss: 0.13440072536468506 | Test loss: 0.04462495073676109\n",
            "Epoch: 190 | Loss: 0.1367756724357605 | Test loss: 0.04212489351630211\n"
          ]
        }
      ]
    },
    {
      "cell_type": "code",
      "source": [
        "model_1.state_dict()"
      ],
      "metadata": {
        "colab": {
          "base_uri": "https://localhost:8080/"
        },
        "id": "u5Dw75_wL8Sx",
        "outputId": "add2940d-fef2-434a-8afa-187a4cf16cf6"
      },
      "execution_count": 174,
      "outputs": [
        {
          "output_type": "execute_result",
          "data": {
            "text/plain": [
              "OrderedDict([('linear_layer.weight', tensor([[0.6644]], device='cuda:0')),\n",
              "             ('linear_layer.bias', tensor([0.2995], device='cuda:0'))])"
            ]
          },
          "metadata": {},
          "execution_count": 174
        }
      ]
    },
    {
      "cell_type": "code",
      "source": [
        "weight, bias"
      ],
      "metadata": {
        "colab": {
          "base_uri": "https://localhost:8080/"
        },
        "id": "9bkbHD8dRzNn",
        "outputId": "fa567737-0377-4368-8e70-d2708450f384"
      },
      "execution_count": 175,
      "outputs": [
        {
          "output_type": "execute_result",
          "data": {
            "text/plain": [
              "(0.7, 0.3)"
            ]
          },
          "metadata": {},
          "execution_count": 175
        }
      ]
    },
    {
      "cell_type": "markdown",
      "source": [
        "### 6.4 Making and Evaluation Mode"
      ],
      "metadata": {
        "id": "H7zfcg-hRzKY"
      }
    },
    {
      "cell_type": "code",
      "source": [
        "#Turn model into evaluation\n",
        "model_1.eval()\n",
        "\n",
        "#TMake predictions on the test data\n",
        "with torch.inference_mode():\n",
        "  y_preds = model_1(X_test)\n",
        "y_preds"
      ],
      "metadata": {
        "colab": {
          "base_uri": "https://localhost:8080/"
        },
        "id": "DRevkqqURzIA",
        "outputId": "55aa5bc3-c4c1-470e-819e-b278e0d13681"
      },
      "execution_count": 176,
      "outputs": [
        {
          "output_type": "execute_result",
          "data": {
            "text/plain": [
              "tensor([[5.6150],\n",
              "        [5.7479],\n",
              "        [5.8808],\n",
              "        [6.0137],\n",
              "        [6.1466],\n",
              "        [6.2795],\n",
              "        [6.4124],\n",
              "        [6.5452],\n",
              "        [6.6781],\n",
              "        [6.8110]], device='cuda:0')"
            ]
          },
          "metadata": {},
          "execution_count": 176
        }
      ]
    },
    {
      "cell_type": "code",
      "source": [
        "#plot the predictions\n",
        "plot_predictions(predictions=y_preds.cpu())"
      ],
      "metadata": {
        "colab": {
          "base_uri": "https://localhost:8080/",
          "height": 599
        },
        "id": "6HR31PYjRzFq",
        "outputId": "fb0a58f5-37b0-4bf7-9d10-758c0276835c"
      },
      "execution_count": 177,
      "outputs": [
        {
          "output_type": "display_data",
          "data": {
            "text/plain": [
              "<Figure size 1000x700 with 1 Axes>"
            ],
            "image/png": "[encoded data removed]"
          },
          "metadata": {}
        }
      ]
    },
    {
      "cell_type": "markdown",
      "source": [
        "### 6.5 Saving and loading model"
      ],
      "metadata": {
        "id": "50pdFqbbRzDQ"
      }
    },
    {
      "cell_type": "code",
      "source": [
        "from pathlib import Path\n",
        "\n",
        "# 1. Create models directory\n",
        "MODEL_PATH = Path(\"models\")\n",
        "MODEL_PATH.mkdir(parents=True, exist_ok=True)\n",
        "\n",
        "# Create model save path\n",
        "MODEL_NAME = \"01_workflow.pth\"\n",
        "MODEL_SAVE_PATH = MODEL_PATH / MODEL_NAME\n",
        "\n",
        "# 3. Save the model state dict\n",
        "print(f\"Saving model to: {MODEL_SAVE_PATH}\")\n",
        "torch.save(obj=model_1.state_dict(),\n",
        "           f=MODEL_SAVE_PATH)"
      ],
      "metadata": {
        "colab": {
          "base_uri": "https://localhost:8080/"
        },
        "id": "eJP6UfsYRzA0",
        "outputId": "52011e0b-7fbc-407b-a990-2a206f2b772e"
      },
      "execution_count": 178,
      "outputs": [
        {
          "output_type": "stream",
          "name": "stdout",
          "text": [
            "Saving model to: models/01_workflow.pth\n"
          ]
        }
      ]
    },
    {
      "cell_type": "code",
      "source": [
        "model_1.state_dict()"
      ],
      "metadata": {
        "colab": {
          "base_uri": "https://localhost:8080/"
        },
        "id": "vc1ymDDDRy-f",
        "outputId": "726e2eeb-3253-4d38-b098-d20aa2694115"
      },
      "execution_count": 179,
      "outputs": [
        {
          "output_type": "execute_result",
          "data": {
            "text/plain": [
              "OrderedDict([('linear_layer.weight', tensor([[0.6644]], device='cuda:0')),\n",
              "             ('linear_layer.bias', tensor([0.2995], device='cuda:0'))])"
            ]
          },
          "metadata": {},
          "execution_count": 179
        }
      ]
    },
    {
      "cell_type": "code",
      "source": [
        "# Load a pyTorch\n",
        "loaded_model_1 = LinearRegressionModelV2()\n",
        "loaded_model_1.load_state_dict(torch.load(f=MODEL_SAVE_PATH))\n",
        "\n",
        "# put the loaded model to device\n",
        "loaded_model_1.to(device)"
      ],
      "metadata": {
        "colab": {
          "base_uri": "https://localhost:8080/"
        },
        "id": "qpmrXROBRy8G",
        "outputId": "73f90897-04e4-4cb6-e9d6-b91337e71855"
      },
      "execution_count": 180,
      "outputs": [
        {
          "output_type": "execute_result",
          "data": {
            "text/plain": [
              "LinearRegressionModelV2(\n",
              "  (linear_layer): Linear(in_features=1, out_features=1, bias=True)\n",
              ")"
            ]
          },
          "metadata": {},
          "execution_count": 180
        }
      ]
    },
    {
      "cell_type": "code",
      "source": [
        "next(loaded_model_1.parameters()).device\n"
      ],
      "metadata": {
        "colab": {
          "base_uri": "https://localhost:8080/"
        },
        "id": "qVlmbox-Ry13",
        "outputId": "2d452801-0fc3-4327-9528-a75a3cf98311"
      },
      "execution_count": 181,
      "outputs": [
        {
          "output_type": "execute_result",
          "data": {
            "text/plain": [
              "device(type='cuda', index=0)"
            ]
          },
          "metadata": {},
          "execution_count": 181
        }
      ]
    },
    {
      "cell_type": "code",
      "source": [
        "loaded_model_1.state_dict()"
      ],
      "metadata": {
        "colab": {
          "base_uri": "https://localhost:8080/"
        },
        "id": "7jyPJDLsYVSp",
        "outputId": "320bb14a-dfd4-4102-f343-eb05f9b2c281"
      },
      "execution_count": 182,
      "outputs": [
        {
          "output_type": "execute_result",
          "data": {
            "text/plain": [
              "OrderedDict([('linear_layer.weight', tensor([[0.6644]], device='cuda:0')),\n",
              "             ('linear_layer.bias', tensor([0.2995], device='cuda:0'))])"
            ]
          },
          "metadata": {},
          "execution_count": 182
        }
      ]
    },
    {
      "cell_type": "code",
      "source": [
        "#Turn model into evaluation\n",
        "model_1.eval()\n",
        "\n",
        "#TMake predictions on the test data\n",
        "with torch.inference_mode():\n",
        "  y_preds = model_1(X_test)\n",
        "y_preds"
      ],
      "metadata": {
        "colab": {
          "base_uri": "https://localhost:8080/"
        },
        "id": "dYNqhvVpYXM5",
        "outputId": "0de631b6-01d8-46da-a083-db1592a90157"
      },
      "execution_count": 186,
      "outputs": [
        {
          "output_type": "execute_result",
          "data": {
            "text/plain": [
              "tensor([[5.6150],\n",
              "        [5.7479],\n",
              "        [5.8808],\n",
              "        [6.0137],\n",
              "        [6.1466],\n",
              "        [6.2795],\n",
              "        [6.4124],\n",
              "        [6.5452],\n",
              "        [6.6781],\n",
              "        [6.8110]], device='cuda:0')"
            ]
          },
          "metadata": {},
          "execution_count": 186
        }
      ]
    },
    {
      "cell_type": "code",
      "source": [],
      "metadata": {
        "id": "jdmGL0tIYXKm"
      },
      "execution_count": null,
      "outputs": []
    },
    {
      "cell_type": "code",
      "source": [],
      "metadata": {
        "id": "Skn69-DeYXHr"
      },
      "execution_count": null,
      "outputs": []
    },
    {
      "cell_type": "code",
      "source": [],
      "metadata": {
        "id": "Br9Dy61NYXEb"
      },
      "execution_count": null,
      "outputs": []
    },
    {
      "cell_type": "code",
      "source": [],
      "metadata": {
        "id": "StqM0o79YW-m"
      },
      "execution_count": null,
      "outputs": []
    }
  ]
}